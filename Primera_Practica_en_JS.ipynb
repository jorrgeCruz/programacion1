{
  "nbformat": 4,
  "nbformat_minor": 0,
  "metadata": {
    "colab": {
      "name": "Primera Practica en JS.ipynb ",
      "provenance": [],
      "collapsed_sections": [],
      "include_colab_link": true
    },
    "kernelspec": {
      "name": "python3",
      "display_name": "Python 3"
    }
  },
  "cells": [
    {
      "cell_type": "markdown",
      "metadata": {
        "id": "view-in-github",
        "colab_type": "text"
      },
      "source": [
        "<a href=\"https://colab.research.google.com/github/jorrgeCruz/programacion1/blob/main/Primera_Practica_en_JS.ipynb\" target=\"_parent\"><img src=\"https://colab.research.google.com/assets/colab-badge.svg\" alt=\"Open In Colab\"/></a>"
      ]
    },
    {
      "cell_type": "markdown",
      "metadata": {
        "id": "KC0IF2gZLfDs"
      },
      "source": [
        "## Empezando con JS\n",
        "Como crear variables: \n",
        "Escribe un identificador valido y le asignas un valor\n",
        "Simple, cierto?"
      ]
    },
    {
      "cell_type": "markdown",
      "source": [
        "Realiza la siguiente pratica, escribe los siguientes tipos y manda un mensaje a consola para vizualizarlos."
      ],
      "metadata": {
        "id": "fA3ZksTiOIEP"
      }
    },
    {
      "cell_type": "markdown",
      "metadata": {
        "id": "7JdFrhMiPMOg"
      },
      "source": [
        "En JS no es necesario declarar el tipo de dato, sin embargo recuerda bien que debes usar, ¿var o let?:\n",
        "+ Numerico\n",
        "  + Entero\n",
        "  ```\n",
        "  x = 4;       // x is of type int\n",
        "  ```\n",
        "  * Flotante\n",
        "  ```\n",
        "  y = 3.14159;      // y is of type float\n",
        "  ```\n",
        "+ Cadena\n",
        "  ```\n",
        "  nombre = 'Mi nombre';\n",
        "  ```\n",
        "  Comillas simples o comillas dobles\n",
        "  ```\n",
        "  x = \"John\";\n",
        "  // is the same as\n",
        "  x = 'John';\n",
        "  ```\n",
        "+ Boleano\n",
        "```\n",
        "  valorV = True;\n",
        "  valorF = False;\n",
        "  ```\n",
        "\n",
        "\n",
        "\n",
        "Puede obtener el tipo de dato de cualquier objeto utilizando la función **typeof()**:\n",
        "```\n",
        "x = 5;\n",
        "console.log(typeof(x));\n",
        "```\n"
      ]
    },
    {
      "cell_type": "markdown",
      "source": [
        "Recuerda, debes establecer si usar let o var."
      ],
      "metadata": {
        "id": "M88wBQNLP51t"
      }
    },
    {
      "cell_type": "markdown",
      "metadata": {
        "id": "E8N1G4mDTdwd"
      },
      "source": [
        "##Case-Sensitive\n",
        "JS es case-sensitive\n",
        "```\n",
        "a = 4;\n",
        "A = \"Sally\";\n",
        "//A will not overwrite a\n",
        "```\n",
        "\n",
        "\n",
        "##Comentarios\n",
        "Si te has dado cuenta, este linea:\n",
        "```\n",
        "//A will not overwrite a\n",
        "\n",
        "/* este es un \n",
        " comentario de \n",
        " varias\n",
        " lineas\n",
        "*/\n",
        "```\n",
        "es un comentario en el codigo, que es un comentario, una nota que dejas tu como programador en lenguaje natural. Para que sirve? para hacer anotaciones ( comentarios ) de tu propio codigo y con posterioridad alguien mas o tu mismo interpretes que fue lo que escribiste de tu codigo. (2. Agrega tus propios comentarios al codigo).\n"
      ]
    },
    {
      "cell_type": "markdown",
      "metadata": {
        "id": "I8WmjQyuU0MV"
      },
      "source": [
        "##Nombrar variables\n",
        "+ El nombre de una variable debe comenzar con una letra o el carácter de subrayado\n",
        "+ Un nombre de variable no puede comenzar con un número\n",
        "+ El nombre de una variable solo puede contener caracteres alfanuméricos y guiones bajos (A-z, 0-9 y _)\n",
        "+ Los nombres de las variables distinguen entre mayúsculas y minúsculas (edad, Edad y EDAD son tres variables diferentes)\n",
        " \n",
        "3. ¿Estas variables son validas? (Prueba en el interprete y responde la pregunta) \n",
        "``` \n",
        "2myvar = \"John\";\n",
        "my-var = \"John\";\n",
        "my var = \"John\";\n",
        "```\n",
        " \n",
        " \n",
        " \n",
        "##Variables con mas de una palabra:\n",
        "Los nombres de variables con más de una palabra pueden resultar difíciles de leer.\n",
        " \n",
        "Hay varias técnicas que puede utilizar para hacerlos más legibles:\n",
        "#Camel Case\n",
        "Cada palabra, excepto la primera comienza con mayuscula:\n",
        "```\n",
        "myVariableName = \"John\";\n",
        "```\n",
        "#Pascal Case\n",
        "Cada palabra comienza con mayuscula:\n",
        "```\n",
        "MyVariableName = \"John\";\n",
        "```\n",
        "#Snake Case\n",
        "Cada palabra es separada con un guion bajo:\n",
        "```\n",
        "my_variable_name = \"John\";\n",
        "```\n",
        " \n",
        "Asignando muchos valores a múltiples variables\n",
        "```\n",
        "let [x, y, z] = [\"Orange\", \"Banana\", \"Cherry\"];\n",
        "        console.log(x);\n",
        "        console.log(y);\n",
        "        console.log(z);\n",
        "```"
      ]
    },
    {
      "cell_type": "markdown",
      "metadata": {
        "id": "f8al7DlVXSSU"
      },
      "source": [
        "##Salida de variables \n",
        "La declaración **console.log** de JS se usa a menudo para mostrar variables.\n",
        "\n",
        "Para combinar texto y una variable, JS usa el carácter +:\n",
        "```\n",
        "x = \"awesome\";\n",
        "console.log(\"JS is \" + x);\n",
        "```\n",
        "Esta operacion se denomina concatenación\n",
        "\n",
        "##Template Literal \n",
        "Para hacer una concatenación mas clara de multiples variables podemos pasar de esto:\n",
        "```\n",
        "x = \"JS\";\n",
        "y = \"is\";\n",
        "x = \"awesome\";\n",
        "console.log( x + \" \" + y + \" \"+ z);\n",
        "```\n",
        "###(Nota los espacios que se hicieron en la concatenación \" \", 4. explica por que los usamos).\n",
        "\n",
        "a esto:\n",
        "\n",
        "```\n",
        "x = \"JS\";\n",
        "y = \"is\";\n",
        "x = \"awesome\";\n",
        "console.log( `${x} ${y} ${z}`);\n",
        "```"
      ]
    },
    {
      "cell_type": "markdown",
      "metadata": {
        "id": "5jxrepGOd5L9"
      },
      "source": [
        "##Hablando un poco de cadenas\n",
        "###Cadenas multilínea\n",
        " \n",
        "Puedes utilizar el acento invertido:\n",
        "```\n",
        "a = ```Lorem ipsum dolor sit amet,\n",
        "consectetur adipiscing elit,\n",
        "sed do eiusmod tempor incididunt\n",
        "ut labore et dolore magna aliqua.```\n",
        "console.log(a)\n",
        "```\n",
        " \n",
        "\n",
        "\n"
      ]
    },
    {
      "cell_type": "markdown",
      "source": [
        "\n",
        "###String Length\n",
        "Para obtener la longitud de una cadena, usa el atributo length. (6. Intenta con varias cadenas y muestra el resultado).\n",
        "```\n",
        "a = \"Hello, World!\"\n",
        "console.log(a.length)\n",
        "```"
      ],
      "metadata": {
        "id": "46YHjefzmhda"
      }
    },
    {
      "cell_type": "markdown",
      "metadata": {
        "id": "nSep9f_QfUDl"
      },
      "source": [
        "##Booleanos\n",
        "En programación, a menudo es necesario saber si una expresión es verdadera o falsa.\n",
        "\n",
        "True o  False\n",
        "\n",
        "Cuando comparas dos valores, la expresión se evalúa y JS devuelve la respuesta booleana:\n",
        "```\n",
        "console.log(10 > 9)\n",
        "console.log(10 == 9)\n",
        "console.log(10 < 9)\n",
        "```\n",
        "###Evaluando valores y variables\n",
        "\n",
        "Casi cualquier valor se evalúa como Verdadero si tiene algún tipo de contenido.\n",
        "\n",
        "Cualquier cadena es verdadera, excepto las cadenas vacías.\n",
        "\n",
        "Cualquier número es verdadero, excepto 0.\n",
        "\n",
        "Cualquier lista, arreglo, u objeto son verdaderos.\n",
        "```\n",
        "Boolean(\"abc\")\n",
        "Boolean(123)\n",
        "Boolean([\"apple\", \"cherry\", \"banana\"])\n",
        "```\n",
        "\n",
        "No hay muchos valores que se evalúen como Falso, excepto los valores vacíos, como \"\", '', el número 0 y el valor null, undefined, NaN. Y, por supuesto, el valor False se evalúa como Falso.\n",
        "```\n",
        "Boolean(False)\n",
        "Boolean(null)\n",
        "Boolean(0)\n",
        "Boolean(\"\")\n",
        "```"
      ]
    },
    {
      "cell_type": "markdown",
      "source": [
        "(7. Prueba cada uno de los ejercicios de los boleanos en JS)."
      ],
      "metadata": {
        "id": "ybMx5kS3QetR"
      }
    },
    {
      "cell_type": "markdown",
      "source": [
        "8. Explica la diferencia entre las variables undefined y null."
      ],
      "metadata": {
        "id": "yGUjbuSEoei4"
      }
    },
    {
      "cell_type": "markdown",
      "metadata": {
        "id": "iHhZwOQxcFWY"
      },
      "source": [
        "##Operadores\n",
        "\n",
        "Los operadores se utilizan para realizar operaciones sobre variables y valores.\n",
        "\n",
        "JS divide los operadores en los siguientes grupos:\n",
        "\n",
        "+ Operadores aritméticos\n",
        "+ Operadores de Asignación\n",
        "+ Operadores de comparación\n",
        "+ Operadores logicos\n",
        "+ Operadores de identidad\n",
        "+ Operadores de membresía\n",
        "+ Operadores bit a bit\n",
        "\n",
        "##Operadores Aritmeticos\n",
        "Operator |\tName\t| Example\n",
        "---------|--------|--------\n",
        "+\t|Addition\t|x + y\t\n",
        "-\t|Subtraction |\tx - y\t\n",
        "*\t|Multiplication|\tx * y\t\n",
        "/\t|Division\t|x / y\t\n",
        "%\t|Modulo\t|x % y\t\n",
        "**\t|Exponentiation\t|x ** y\t\n",
        "\n",
        "##Operadores de Asignacion\n",
        "Operator | Example| Es igual a\n",
        "---------|--------|--------\n",
        "=\t|x = 5\t|x = 5\t\n",
        "+=\t|x += 3\t|x = x + 3\t\n",
        "-=\t|x -= 3\t|x = x - 3\t\n",
        "*=\t|x *= 3\t|x = x * 3\t\n",
        "/=\t|x /= 3\t|x = x / 3\t\n",
        "%=\t|x %= 3\t|x = x % 3\t\n",
        "**=\t|x **= 3\t|x = x ** 3\t\n",
        "&=\t|x &= 3\t|x = x & 3\t\n",
        "\\|=\t|x |= 3\t|x = x | 3\t\n",
        "^=\t|x ^= 3\t|x = x ^ 3\t\n",
        ">>=\t|x >>= 3\t|x = x >> 3\t\n",
        "<<=\t|x <<= 3\t|x = x << 3\n",
        "\n"
      ]
    },
    {
      "cell_type": "markdown",
      "metadata": {
        "id": "O0FoBgQgZ-Hh"
      },
      "source": [
        "##Operadores de Comparación\n",
        "Operator |\tName\t| Example\n",
        "---------|--------|--------\n",
        "==\t|Equal between values\t|x == y\t\n",
        "===\t|Equal between type and value\t|x === y\t\n",
        "!=\t|Not equal\t|x != y\t\n",
        ">\t|Greater than\t|x > y\t\n",
        "<\t|Less than\t|x < y\t\n",
        ">=\t|Greater than or equal to\t|x >= y\t\n",
        "<=\t|Less than or equal to\t|x <= y\n",
        "\n",
        "##Operadores Lógicos\n",
        "Operator |\tDescription\t| Example\n",
        "---------|--------|--------\n",
        "&&\t|Returns True if both statements are true\t|x < 5 &&  x < 10\t\n",
        "\\|\\|\t|Returns True if one of the statements is true\t|x < 5 \\|\\| x < 4\t\n",
        "!\t|Reverse the result, returns False if the result is true\t|!(x < 5 && x < 10)\n",
        "\n",
        "##Operadores de Comparación\n",
        "Operator |\tName\t| Example\n",
        "---------|--------|--------\n",
        "& \t|AND\t|Sets each bit to 1 if both bits are 1\n",
        "\\|\t|OR\t|Sets each bit to 1 if one of two bits is 1\n",
        " ^\t|XOR\t|Sets each bit to 1 if only one of two bits is 1\n",
        "~ \t|NOT\t|Inverts all the bits\n",
        "<<\t|Zero fill left shift\t|Shift left by pushing zeros in from the right and let the leftmost bits fall off\n",
        ">>\t|Signed right shift\t|Shift right by pushing copies of the leftmost bit in from the left, and let the rightmost bits fall off\n",
        "\n",
        "(9. PRACTICA: Escribe un sentencia por cada uno de los operadores y ejecutalo en el navegador)"
      ]
    },
    {
      "cell_type": "markdown",
      "metadata": {
        "id": "iMEK_ZYdZh1M"
      },
      "source": [
        "#Ejercicios\n",
        "10. Cree una variable llamada z, asígnele x + y y muestre el resultado.\n",
        "```\n",
        "x = 5\n",
        "y = 10\n",
        "```\n",
        "11. Elimina los caracteres ilegales en el nombre de la variable:\n",
        "```\n",
        "MyFirstName = \"John\"\n",
        "```\n",
        "12. El siguiente ejemplo de código imprimiría el tipo de datos de x, ¿qué tipo de datos sería? \n",
        "```\n",
        "x = 20.5\n",
        "console.log(typeof(x))\n",
        "```\n",
        "13. Utiliza el método len para imprimir la longitud de la cadena, ¿que valor da? 11\n",
        "```\n",
        "x = \"Hello World\"\n",
        "console.log(x.length)\n",
        "```"
      ]
    }
  ]
}