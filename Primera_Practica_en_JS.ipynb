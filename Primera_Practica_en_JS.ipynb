{
  "nbformat": 4,
  "nbformat_minor": 0,
  "metadata": {
    "colab": {
      "name": "Primera Practica en Python y Colab.ipynb ",
      "provenance": [],
      "collapsed_sections": [],
      "include_colab_link": true
    },
    "kernelspec": {
      "name": "python3",
      "display_name": "Python 3"
    }
  },
  "cells": [
    {
      "cell_type": "markdown",
      "metadata": {
        "id": "view-in-github",
        "colab_type": "text"
      },
      "source": [
        "<a href=\"https://colab.research.google.com/github/jorrgeCruz/programacion1/blob/main/Primera_Practica_en_JS.ipynb\" target=\"_parent\"><img src=\"https://colab.research.google.com/assets/colab-badge.svg\" alt=\"Open In Colab\"/></a>"
      ]
    },
    {
      "cell_type": "markdown",
      "metadata": {
        "id": "KC0IF2gZLfDs"
      },
      "source": [
        "## Empezando con Python\n",
        "Como crear variables: \n",
        "Escribe un identificador valido y le asignas un valor\n",
        "Simple, cierto?"
      ]
    },
    {
      "cell_type": "markdown",
      "metadata": {
        "id": "7JdFrhMiPMOg"
      },
      "source": [
        "En python no es necesario declarar el tipo de dato, pero a saber existen tres tipos (1. estos ejemplos deberas correrlos en el interprete de python):\n",
        "+ Numerico\n",
        "  + Entero\n",
        "  ```\n",
        "  x = 4       # x is of type int\n",
        "  ```\n",
        "  * Flotante\n",
        "  ```\n",
        "  y = 3.14159       # y is of type float\n",
        "  ```\n",
        "  * Complejo \n",
        "  ```\n",
        "  z = 2.5 + 0.5j.   # z es un tipo complejo\n",
        "  ```\n",
        "+ Cadena\n",
        "  ```\n",
        "  nombre = 'Mi nombre'\n",
        "  ```\n",
        "  Comillas simples o comillas dobles\n",
        "  ```\n",
        "  x = \"John\"\n",
        "  # is the same as\n",
        "  x = 'John'\n",
        "  ```\n",
        "+ Boleano\n",
        "```\n",
        "  valorV = True\n",
        "  valorF = False\n",
        "  ```\n",
        "\n",
        "\n",
        "\n",
        "Puede obtener el tipo de dato de cualquier objeto utilizando la función **type()**:\n",
        "```\n",
        "x = 5\n",
        "print(type(x))\n",
        "```\n"
      ]
    },
    {
      "cell_type": "code",
      "source": [
        "#Escribe las varibales\n",
        "x = 5\n",
        "y = 3.14159\n",
        "z = 2.5 + 0.5j\n",
        "print(x)\n",
        "print(y)\n",
        "print(z)"
      ],
      "metadata": {
        "colab": {
          "base_uri": "https://localhost:8080/"
        },
        "id": "2S79N9scNdCx",
        "outputId": "4d8fb8c7-63cc-4c23-b7b8-1e53d26451b5"
      },
      "execution_count": null,
      "outputs": [
        {
          "output_type": "stream",
          "name": "stdout",
          "text": [
            "5\n",
            "3.14159\n",
            "(2.5+0.5j)\n"
          ]
        }
      ]
    },
    {
      "cell_type": "code",
      "metadata": {
        "colab": {
          "base_uri": "https://localhost:8080/"
        },
        "id": "gBK3C5xcnuFe",
        "outputId": "d3edb157-a6d3-4670-bc08-2707a7e55b90"
      },
      "source": [
        "x = 4 \n",
        "y = 3.14159  \n",
        "z = 2.5 + 0.5j\n",
        "print(type(x))\n",
        "print(type(y))\n",
        "print(type(z))"
      ],
      "execution_count": null,
      "outputs": [
        {
          "output_type": "stream",
          "name": "stdout",
          "text": [
            "<class 'int'>\n",
            "<class 'float'>\n",
            "<class 'complex'>\n"
          ]
        }
      ]
    },
    {
      "cell_type": "markdown",
      "metadata": {
        "id": "E8N1G4mDTdwd"
      },
      "source": [
        "##Case-Sensitive\n",
        "Python es case-sensitive\n",
        "```\n",
        "a = 4\n",
        "A = \"Sally\"\n",
        "#A will not overwrite a\n",
        "```\n",
        "\n",
        "\n",
        "##Comentarios\n",
        "Si te has dado cuenta, este linea:\n",
        "```\n",
        "#A will not overwrite a\n",
        "```\n",
        "es un comentario en el codigo, que es un comentario, una nota que dejas tu como programador en lenguaje natural. Para que sirve? para hacer anotaciones ( comentarios ) de tu propio codigo y con posterioridad alguien mas o tu mismo interpretes que fue lo que escribiste de tu codigo. (2. Agrega tus propios comentarios al codigo).\n"
      ]
    },
    {
      "cell_type": "markdown",
      "metadata": {
        "id": "I8WmjQyuU0MV"
      },
      "source": [
        "🙂cuyyg t#~Sr##Nombrar variables\n",
        "+ El nombre de una variable debe comenzar con una letra o el carácter de subrayado\n",
        "+ Un nombre de variable no puede comenzar con un número\n",
        "+ El nombre de una variable solo puede contener caracteres alfanuméricos y guiones bajos (A-z, 0-9 y _)\n",
        "+ Los nombres de las variables distinguen entre mayúsculas y minúsculas (edad, Edad y EDAD son tres variables diferentes)\n",
        " \n",
        "3. ¿Estas variables son validas? (Prueba en el interprete y responde la pregunta) \n",
        "``` \n",
        "2myvar = \"John\"\n",
        "my-var = \"John\"\n",
        "my var = \"John\"\n",
        "```\n",
        " \n",
        " \n",
        " \n",
        "##Variables con mas de una palabra:\n",
        "Los nombres de variables con más de una palabra pueden resultar difíciles de leer.\n",
        " \n",
        "Hay varias técnicas que puede utilizar para hacerlos más legibles:\n",
        "#Camel Case\n",
        "Cada palabra, excepto la primera comienza con mayuscula:\n",
        "```\n",
        "myVariableName = \"John\"\n",
        "```\n",
        "#Pascal Case\n",
        "Cada palabra comienza con mayuscula:\n",
        "```\n",
        "MyVariableName = \"John\"\n",
        "```\n",
        "#Snake Case\n",
        "Cada palabra es separada con un guion bajo:\n",
        "```\n",
        "my_variable_name = \"John\"\n",
        "```\n",
        " \n",
        "Asignando muchos valores a múltiples variables\n",
        "```\n",
        "x, y, z = \"Orange\", \"Banana\", \"Cherry\"\n",
        "print(x)\n",
        "print(y)\n",
        "print(z)\n",
        "```"
      ]
    },
    {
      "cell_type": "code",
      "source": [
        "2myvar = \"John\"\n"
      ],
      "metadata": {
        "colab": {
          "base_uri": "https://localhost:8080/",
          "height": 131
        },
        "id": "a2kZAbzb7Cu5",
        "outputId": "820b70c5-6d17-481d-9c64-2c4c357e65c8"
      },
      "execution_count": null,
      "outputs": [
        {
          "output_type": "error",
          "ename": "SyntaxError",
          "evalue": "ignored",
          "traceback": [
            "\u001b[0;36m  File \u001b[0;32m\"<ipython-input-6-8d2476d30ec8>\"\u001b[0;36m, line \u001b[0;32m1\u001b[0m\n\u001b[0;31m    2myvar = \"John\"\u001b[0m\n\u001b[0m         ^\u001b[0m\n\u001b[0;31mSyntaxError\u001b[0m\u001b[0;31m:\u001b[0m invalid syntax\n"
          ]
        }
      ]
    },
    {
      "cell_type": "code",
      "source": [
        "\n",
        "my-var = \"John\"\n"
      ],
      "metadata": {
        "colab": {
          "base_uri": "https://localhost:8080/",
          "height": 131
        },
        "id": "Lp7UUVEE7S9M",
        "outputId": "ec3c21a4-ce14-477b-a2e4-9c4baffe713e"
      },
      "execution_count": null,
      "outputs": [
        {
          "output_type": "error",
          "ename": "SyntaxError",
          "evalue": "ignored",
          "traceback": [
            "\u001b[0;36m  File \u001b[0;32m\"<ipython-input-7-d658236a9015>\"\u001b[0;36m, line \u001b[0;32m2\u001b[0m\n\u001b[0;31m    my-var = \"John\"\u001b[0m\n\u001b[0m                   ^\u001b[0m\n\u001b[0;31mSyntaxError\u001b[0m\u001b[0;31m:\u001b[0m can't assign to operator\n"
          ]
        }
      ]
    },
    {
      "cell_type": "code",
      "source": [
        "\n",
        "my var = \"John\""
      ],
      "metadata": {
        "id": "dIP-94e47XAk"
      },
      "execution_count": null,
      "outputs": []
    },
    {
      "cell_type": "markdown",
      "metadata": {
        "id": "f8al7DlVXSSU"
      },
      "source": [
        "##Salida de variables \n",
        "La declaración **print** de Python se usa a menudo para mostrar variables.\n",
        "\n",
        "Para combinar texto y una variable, Python usa el carácter +:\n",
        "```\n",
        "x = \"awesome\"\n",
        "print(\"Python is \" + x)\n",
        "```\n",
        "Esta operacion se denomina concatenación\n",
        "\n",
        "##F Strings\n",
        "Para hacer una concatenación mas clara de multiples variables podemos pasar de esto:\n",
        "```\n",
        "x = \"Python\"\n",
        "y = \"is\"\n",
        "x = \"awesome\"\n",
        "print( x + \" \" + y + \" \"+ z)\n",
        "```\n",
        "###(Nota los espacios que se hicieron en la concatenación \" \", 4. explica por que los usamos).\n",
        "\n",
        "a esto:\n",
        "\n",
        "```\n",
        "x = \"Python\"\n",
        "y = \"is\"\n",
        "x = \"awesome\"\n",
        "print( f\"{x} {y} {z}\")\n",
        "```"
      ]
    },
    {
      "cell_type": "markdown",
      "source": [
        "Se usaron lso espacios porque ..."
      ],
      "metadata": {
        "id": "CZV-0xzA71Gl"
      }
    },
    {
      "cell_type": "markdown",
      "metadata": {
        "id": "X-5PRHJbcaza"
      },
      "source": [
        "##Números aleatorios\n",
        "Python no tiene una función random() para hacer un número aleatorio, pero Python tiene un módulo incorporado llamado ramdon que se puede usar para hacer números aleatorios:\n",
        "Importando el módulo random y mostrando un número aleatorio entre 0 y 1:\n"
      ]
    },
    {
      "cell_type": "code",
      "metadata": {
        "colab": {
          "base_uri": "https://localhost:8080/"
        },
        "id": "_LRzZgTycv6U",
        "outputId": "91ba0b06-9ca2-47c6-bce9-80d70acca39e"
      },
      "source": [
        "import random as ra\n",
        "print(ra.random())"
      ],
      "execution_count": null,
      "outputs": [
        {
          "output_type": "stream",
          "name": "stdout",
          "text": [
            "0.6518653784083859\n"
          ]
        }
      ]
    },
    {
      "cell_type": "markdown",
      "metadata": {
        "id": "-bJbJ571dBol"
      },
      "source": [
        "PRACTICA GENERADOR DE NUMEROS ALEATORIOS\n",
        "\n",
        "Para generar numeros aleaotorios enteros en un rango podemos usar la siguiente formula\n",
        "generador * rango - min, donde rango = max - min\n",
        "\n",
        "(5. escribe el código en Python para generar números aleatorios entre 1 y 10)"
      ]
    },
    {
      "cell_type": "code",
      "metadata": {
        "id": "RACTU0MhXSaN"
      },
      "source": [
        "max = 11\n",
        "min = 0\n",
        "numeroAleatorio = int(ra.random() * (max-min)) + min \n",
        "print(numeroAleatorio)"
      ],
      "execution_count": null,
      "outputs": []
    },
    {
      "cell_type": "markdown",
      "metadata": {
        "id": "5jxrepGOd5L9"
      },
      "source": [
        "##Hablando un poco de cadenas\n",
        "###Cadenas multilínea\n",
        " \n",
        "Puedes utilizar tres comillas dobles:\n",
        "```\n",
        "a = \"\"\"Lorem ipsum dolor sit amet,\n",
        "consectetur adipiscing elit,\n",
        "sed do eiusmod tempor incididunt\n",
        "ut labore et dolore magna aliqua.\"\"\"\n",
        "print(a)\n",
        "```\n",
        " \n",
        "###String Length\n",
        "Para obtener la longitud de una cadena, usa la función len(). (6. Intenta con varias cadenas y muestra el resultado).\n",
        "```\n",
        "a = \"Hello, World!\"\n",
        "print(len(a))\n",
        "```\n",
        "###Check String\n",
        "Para comprobar si una determinada frase o carácter está presente en una cadena, podemos usar la palabra clave **in**.\n",
        "```\n",
        "txt = \"The best things in life are free!\"\n",
        "print(\"free\" in txt)\n",
        "```"
      ]
    },
    {
      "cell_type": "markdown",
      "metadata": {
        "id": "nSep9f_QfUDl"
      },
      "source": [
        "##Booleanos\n",
        "En programación, a menudo es necesario saber si una expresión es verdadera o falsa.\n",
        "\n",
        "True o  False\n",
        "\n",
        "Cuando comparas dos valores, la expresión se evalúa y Python devuelve la respuesta booleana:\n",
        "```\n",
        "print(10 > 9)\n",
        "print(10 == 9)\n",
        "print(10 < 9)\n",
        "```\n",
        "###Evaluando valores y variables\n",
        "\n",
        "Casi cualquier valor se evalúa como Verdadero si tiene algún tipo de contenido.\n",
        "\n",
        "Cualquier cadena es verdadera, excepto las cadenas vacías.\n",
        "\n",
        "Cualquier número es verdadero, excepto 0.\n",
        "\n",
        "Cualquier lista, tupla, conjunto y diccionario son verdaderos, excepto los vacíos.\n",
        "```\n",
        "bool(\"abc\")\n",
        "bool(123)\n",
        "bool([\"apple\", \"cherry\", \"banana\"])\n",
        "```\n",
        "\n",
        "No hay muchos valores que se evalúen como Falso, excepto los valores vacíos, como (), [], {}, '', el número 0 y el valor Ninguno. Y, por supuesto, el valor False se evalúa como Falso.\n",
        "```\n",
        "bool(False)\n",
        "bool(None)\n",
        "bool(0)\n",
        "bool(\"\")\n",
        "bool(())\n",
        "bool([])\n",
        "bool({})\n",
        "```"
      ]
    },
    {
      "cell_type": "markdown",
      "source": [
        "(7. Prueba cada uno de los ejercicios de los boleanos en Python)."
      ],
      "metadata": {
        "id": "ybMx5kS3QetR"
      }
    },
    {
      "cell_type": "markdown",
      "metadata": {
        "id": "iHhZwOQxcFWY"
      },
      "source": [
        "##Operadores\n",
        "\n",
        "Los operadores se utilizan para realizar operaciones sobre variables y valores.\n",
        "\n",
        "Python divide los operadores en los siguientes grupos:\n",
        "\n",
        "+ Operadores aritméticos\n",
        "+ Operadores de Asignación\n",
        "+ Operadores de comparación\n",
        "+ Operadores logicos\n",
        "+ Operadores de identidad\n",
        "+ Operadores de membresía\n",
        "+ Operadores bit a bit\n",
        "\n",
        "##Operadores Aritmeticos\n",
        "Operator |\tName\t| Example\n",
        "---------|--------|--------\n",
        "+\t|Addition\t|x + y\t\n",
        "-\t|Subtraction |\tx - y\t\n",
        "*\t|Multiplication|\tx * y\t\n",
        "/\t|Division\t|x / y\t\n",
        "%\t|Modulus\t|x % y\t\n",
        "**\t|Exponentiation\t|x ** y\t\n",
        "//\t|Floor division\t|x // y\n",
        "\n",
        "##Operadores de Asignacion\n",
        "Operator | Example| Es igual a\n",
        "---------|--------|--------\n",
        "=\t|x = 5\t|x = 5\t\n",
        "+=\t|x += 3\t|x = x + 3\t\n",
        "-=\t|x -= 3\t|x = x - 3\t\n",
        "*=\t|x *= 3\t|x = x * 3\t\n",
        "/=\t|x /= 3\t|x = x / 3\t\n",
        "%=\t|x %= 3\t|x = x % 3\t\n",
        "//=\t|x //= 3\t|x = x // 3\t\n",
        "**=\t|x **= 3\t|x = x ** 3\t\n",
        "&=\t|x &= 3\t|x = x & 3\t\n",
        "\\|=\t|x |= 3\t|x = x | 3\t\n",
        "^=\t|x ^= 3\t|x = x ^ 3\t\n",
        ">>=\t|x >>= 3\t|x = x >> 3\t\n",
        "<<=\t|x <<= 3\t|x = x << 3\n",
        "\n"
      ]
    },
    {
      "cell_type": "markdown",
      "metadata": {
        "id": "O0FoBgQgZ-Hh"
      },
      "source": [
        "##Operadores de Comparacion\n",
        "Operator |\tName\t| Example\n",
        "---------|--------|--------\n",
        "==\t|Equal\t|x == y\t\n",
        "!=\t|Not equal\t|x != y\t\n",
        ">\t|Greater than\t|x > y\t\n",
        "<\t|Less than\t|x < y\t\n",
        ">=\t|Greater than or equal to\t|x >= y\t\n",
        "<=\t|Less than or equal to\t|x <= y\n",
        "\n",
        "##Operadores Logicos\n",
        "Operator |\tDescription\t| Example\n",
        "---------|--------|--------\n",
        "and \t|Returns True if both statements are true\t|x < 5 and  x < 10\t\n",
        "or\t|Returns True if one of the statements is true\t|x < 5 or x < 4\t\n",
        "not\t|Reverse the result, returns False if the result is true\t|not(x < 5 and x < 10)\n",
        "\n",
        "##Operadores de Identidad\n",
        "Operator |\tDescription\t| Example\n",
        "---------|--------|--------\n",
        "is \t|Returns True if both variables are the same object\t|x is y\t\n",
        "is not\t|Returns True if both variables are not the same object\t|x is not y\n",
        "\n",
        "##Operadores de Comparación\n",
        "Operator |\tName\t| Example\n",
        "---------|--------|--------\n",
        "& \t|AND\t|Sets each bit to 1 if both bits are 1\n",
        "\\|\t|OR\t|Sets each bit to 1 if one of two bits is 1\n",
        " ^\t|XOR\t|Sets each bit to 1 if only one of two bits is 1\n",
        "~ \t|NOT\t|Inverts all the bits\n",
        "<<\t|Zero fill left shift\t|Shift left by pushing zeros in from the right and let the leftmost bits fall off\n",
        ">>\t|Signed right shift\t|Shift right by pushing copies of the leftmost bit in from the left, and let the rightmost bits fall off\n",
        "\n",
        "(8. PRACTICA: Escribe un sentencia por cada uno de los operadores y ejecutalo en el interprete)"
      ]
    },
    {
      "cell_type": "markdown",
      "metadata": {
        "id": "iMEK_ZYdZh1M"
      },
      "source": [
        "#Ejercicios\n",
        "9. Cree una variable llamada z, asígnele x + y y muestre el resultado.\n",
        "```\n",
        "x = 5\n",
        "y = 10\n",
        "```\n",
        "10. Elimina los caracteres ilegales en el nombre de la variable:\n",
        "```\n",
        "MyFirstName = \"John\"\n",
        "```\n",
        "11. El siguiente ejemplo de código imprimiría el tipo de datos de x, ¿qué tipo de datos sería? \n",
        "```\n",
        "x = 20.5\n",
        "print(type(x))\n",
        "```\n",
        "12. Utiliza el método len para imprimir la longitud de la cadena, ¿que valor da? 11\n",
        "```\n",
        "x = \"Hello World\"\n",
        "print(len(x))\n",
        "```"
      ]
    }
  ]
}